{
 "cells": [
  {
   "cell_type": "code",
   "execution_count": 5,
   "id": "mental-announcement",
   "metadata": {},
   "outputs": [
    {
     "name": "stdout",
     "output_type": "stream",
     "text": [
      "[NbConvertApp] Converting notebook IA_Project.ipynb to python\n",
      "[NbConvertApp] Writing 4993 bytes to IA_Project.py\n"
     ]
    }
   ],
   "source": [
    "! jupyter-nbconvert --to python --template python_clean IA_Project.ipynb"
   ]
  },
  {
   "cell_type": "code",
   "execution_count": 7,
   "id": "innocent-peoples",
   "metadata": {},
   "outputs": [],
   "source": [
    "VERSION = \"2021.03.04_13.23\"\n",
    "import time\n",
    "import selenium\n",
    "from selenium import webdriver\n",
    "from pathlib import Path\n",
    "import os\n",
    "# import sys\n",
    "import my_path"
   ]
  },
  {
   "cell_type": "code",
   "execution_count": 3,
   "id": "positive-tracker",
   "metadata": {},
   "outputs": [],
   "source": [
    "PATH = os.environ.get(\"PATH\")\n",
    "os.environ['PATH'] = f'{my_path.absolute_path}:{PATH}'"
   ]
  },
  {
   "cell_type": "code",
   "execution_count": 4,
   "id": "owned-honey",
   "metadata": {},
   "outputs": [
    {
     "name": "stdout",
     "output_type": "stream",
     "text": [
      "VERSION: 2021.03.04_13.23\n",
      "PATH: /Users/aciuffo/Documents/src/ts_ia_project:/usr/local/bin:/usr/bin:/bin:/usr/sbin:/sbin:/Users/aciuffo/bin/:/Users/aciuffo/bin/develtools:/usr/local/opt/tcl-tk/bin:/usr/local/opt/openssl/bin:/usr/local/bin\n"
     ]
    }
   ],
   "source": [
    "print(f'VERSION: {VERSION}')\n",
    "print(f'PATH: {os.environ[\"PATH\"]}')"
   ]
  },
  {
   "cell_type": "code",
   "execution_count": null,
   "id": "immediate-serum",
   "metadata": {},
   "outputs": [],
   "source": [
    "class AIProject:\n",
    "  def __init__(self, url, recentText, lastText, diffTexts, driver, i, allTextS):\n",
    "     self.url = url\n",
    "     self.recentText = recentText\n",
    "     self.lastText = lastText\n",
    "     self.diffTexts = diffTexts\n",
    "     self.driver = driver\n",
    "     self.i = i\n",
    "     self.allText = allText\n",
    "     self.output_path = Path('~/Desktop/IA_Project_output').expanduser()\n",
    "  def openBrowser(self):\n",
    "     self.driver.get(url)\n",
    "     self.driver.maximize_window()\n",
    "     GetRidOfButton = self.driver.find_element_by_id(\"_evidon-accept-button\")\n",
    "     GetRidOfButton.click()\n",
    "     time.sleep(5)\n",
    "     self.driver.get(url)\n",
    "     print(\"browser opened\")\n",
    "\n",
    "\n",
    "     \n",
    "  def clickButton(self):\n",
    "     button = self.driver.find_element_by_id(\"id-page-buttons\")\n",
    "     button.click()\n",
    "     time.sleep(.5)\n",
    "  def saveHTML(self):\n",
    "     self.recentText = self.lastText\n",
    "     self.lastText = self.driver.page_source\n",
    "     if self.lastText == self.recentText:\n",
    "         self.diffTexts = False\n",
    "         self.lastText = \"\"\n",
    "     else:\n",
    "         self.allText += self.recentText\n",
    "  def saveToFile(self):\n",
    "     text_file = open(\"IAoutput\", \"w\")\n",
    "     text_file.truncate(0)\n",
    "     text_file.write(self.allText)\n",
    "     text_file.close()\n",
    "     print(\"file updated\")"
   ]
  },
  {
   "cell_type": "code",
   "execution_count": null,
   "id": "introductory-newman",
   "metadata": {},
   "outputs": [],
   "source": [
    "begin = time.time()\n",
    "url = \"https://outlet.us.dell.com/ARBOnlineSales/Online/InventorySearch.aspx?brandid=2801&c=us&cs=28&l=en&s=dfb\"\n",
    "recentText = \"\"\n",
    "lastText = \"\"\n",
    "diffTexts = True\n",
    "driver = webdriver.Firefox()\n",
    "i = 0\n",
    "allText = \"\"\n",
    "runWholeProject = AIProject(url, recentText, lastText, diffTexts, driver, i, allText)\n",
    "runWholeProject.openBrowser()\n",
    "while runWholeProject.diffTexts:\n",
    "  try:\n",
    "     while runWholeProject.diffTexts:\n",
    "        runWholeProject.clickButton()\n",
    "        runWholeProject.saveHTML()\n",
    "        runWholeProject.i = runWholeProject.i + 1\n",
    "        print(\"times clicked:\", runWholeProject.i)\n",
    "        if runWholeProject.i >= 200:\n",
    "           runWholeProject.diffTexts = False\n",
    "           print(\"default end\")\n",
    "  except selenium.common.exceptions.StaleElementReferenceException:\n",
    "     time.sleep(3)\n",
    "     print(\"stale\")\n",
    "  except selenium.common.exceptions.ElementClickInterceptedException:\n",
    "     print(\"click intercept\")\n",
    "  finally:\n",
    "      print(\"Exception passed\")\n",
    "runWholeProject.saveToFile()\n",
    "end = time.time()\n",
    "elapsed = end - begin\n",
    "print(f\"This process took {elapsed} seconds to complete\")"
   ]
  },
  {
   "cell_type": "code",
   "execution_count": null,
   "id": "beneficial-snowboard",
   "metadata": {},
   "outputs": [],
   "source": [
    "# import time\n",
    "# import selenium\n",
    "# from selenium import webdriver\n",
    "\n",
    "# class AIProject:\n",
    "#   def __init__(self, url, recentText, lastText, diffTexts, driver, i, allTextS):\n",
    "#      self.url = url\n",
    "#      self.recentText = recentText\n",
    "#      self.lastText = lastText\n",
    "#      self.diffTexts = diffTexts\n",
    "#      self.driver = driver\n",
    "#      self.i = i\n",
    "#      self.allText = allText\n",
    "#   def openBrowser(self):\n",
    "#      self.driver.get(url)\n",
    "#      self.driver.maximize_window()\n",
    "#      GetRidOfButton = self.driver.find_element_by_id(\"_evidon-accept-button\")\n",
    "#      GetRidOfButton.click()\n",
    "#      time.sleep(5)\n",
    "#      self.driver.get(url)\n",
    "#      print(\"browser opened\")\n",
    "\n",
    "\n",
    "     \n",
    "#   def clickButton(self):\n",
    "#      button = self.driver.find_element_by_id(\"id-page-buttons\")\n",
    "#      button.click()\n",
    "#      time.sleep(.5)\n",
    "#   def saveHTML(self):\n",
    "#      self.recentText = self.lastText\n",
    "#      self.lastText = self.driver.page_source\n",
    "#      if self.lastText == self.recentText:\n",
    "#          self.diffTexts = False\n",
    "#          self.lastText = \"\"\n",
    "#      else:\n",
    "#          self.allText += self.recentText\n",
    "#   def saveToFile(self):\n",
    "#      text_file = open(\"IAoutput\", \"w\")\n",
    "#      text_file.truncate(0)\n",
    "#      text_file.write(self.allText)\n",
    "#      text_file.close()\n",
    "#      print(\"file updated\")\n",
    "\n",
    "# begin = time.time()\n",
    "# url = \"https://outlet.us.dell.com/ARBOnlineSales/Online/InventorySearch.aspx?brandid=2801&c=us&cs=28&l=en&s=dfb\"\n",
    "# recentText = \"\"\n",
    "# lastText = \"\"\n",
    "# diffTexts = True\n",
    "# driver = webdriver.Firefox()\n",
    "# i = 0\n",
    "# allText = \"\"\n",
    "# runWholeProject = AIProject(url, recentText, lastText, diffTexts, driver, i, allText)\n",
    "# runWholeProject.openBrowser()\n",
    "# while runWholeProject.diffTexts:\n",
    "#   try:\n",
    "#      while runWholeProject.diffTexts:\n",
    "#         runWholeProject.clickButton()\n",
    "#         runWholeProject.saveHTML()\n",
    "#         runWholeProject.i = runWholeProject.i + 1\n",
    "#         print(\"times clicked:\", runWholeProject.i)\n",
    "#         if runWholeProject.i >= 200:\n",
    "#            runWholeProject.diffTexts = False\n",
    "#            print(\"default end\")\n",
    "#   except selenium.common.exceptions.StaleElementReferenceException:\n",
    "#      time.sleep(3)\n",
    "#      print(\"stale\")\n",
    "#   except selenium.common.exceptions.ElementClickInterceptedException:\n",
    "#      print(\"click intercept\")\n",
    "#   finally:\n",
    "#       print(\"Exception passed\")\n",
    "# runWholeProject.saveToFile()\n",
    "# end = time.time()\n",
    "# elapsed = end - begin\n",
    "# print(\"This process took\", elasped, \"seconds to complete\")\n"
   ]
  }
 ],
 "metadata": {
  "kernelspec": {
   "display_name": "ts_ia_project-2TeTANIf",
   "language": "python",
   "name": "ts_ia_project-2tetanif"
  },
  "language_info": {
   "codemirror_mode": {
    "name": "ipython",
    "version": 3
   },
   "file_extension": ".py",
   "mimetype": "text/x-python",
   "name": "python",
   "nbconvert_exporter": "python",
   "pygments_lexer": "ipython3",
   "version": "3.8.5"
  }
 },
 "nbformat": 4,
 "nbformat_minor": 5
}
